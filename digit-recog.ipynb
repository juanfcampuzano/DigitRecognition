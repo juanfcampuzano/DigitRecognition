{
 "cells": [
  {
   "cell_type": "markdown",
   "metadata": {},
   "source": [
    "# MNIST Digit Recognizer\n",
    "**Description:** This program identifies digits from a dataset of handwritten images.\n",
    "It uses Convolutional Neural Networks (CNN)."
   ]
  },
  {
   "cell_type": "code",
   "execution_count": 1,
   "metadata": {
    "_cell_guid": "b1076dfc-b9ad-4769-8c92-a6c4dae69d19",
    "_uuid": "8f2839f25d086af736a60e9eeb907d3b93b6e0e5",
    "execution": {
     "iopub.execute_input": "2022-04-10T18:01:37.745248Z",
     "iopub.status.busy": "2022-04-10T18:01:37.744492Z",
     "iopub.status.idle": "2022-04-10T18:01:40.250253Z",
     "shell.execute_reply": "2022-04-10T18:01:40.249326Z",
     "shell.execute_reply.started": "2022-04-10T18:01:37.745141Z"
    }
   },
   "outputs": [],
   "source": [
    "# Importing the libraries\n",
    "from tensorflow.keras.callbacks import ReduceLROnPlateau\n",
    "from tensorflow.keras.preprocessing.image import ImageDataGenerator\n",
    "from matplotlib import pyplot as plt\n",
    "from sklearn.metrics import confusion_matrix\n",
    "import numpy as np\n",
    "import pandas as pd\n",
    "import tensorflow as tf\n",
    "import seaborn as sns\n",
    "\n",
    "np.random.seed(1)\n",
    "tf.random.set_seed(2)"
   ]
  },
  {
   "cell_type": "code",
   "execution_count": 2,
   "metadata": {
    "execution": {
     "iopub.execute_input": "2022-04-10T18:01:40.251965Z",
     "iopub.status.busy": "2022-04-10T18:01:40.251607Z",
     "iopub.status.idle": "2022-04-10T18:01:44.371004Z",
     "shell.execute_reply": "2022-04-10T18:01:44.370003Z",
     "shell.execute_reply.started": "2022-04-10T18:01:40.251895Z"
    }
   },
   "outputs": [],
   "source": [
    "# Load the train and test data.\n",
    "train_df = pd.read_csv('train.csv')\n",
    "test_df = pd.read_csv('test.csv')"
   ]
  },
  {
   "cell_type": "code",
   "execution_count": 3,
   "metadata": {
    "execution": {
     "iopub.execute_input": "2022-04-10T18:01:44.372557Z",
     "iopub.status.busy": "2022-04-10T18:01:44.37229Z",
     "iopub.status.idle": "2022-04-10T18:01:44.43452Z",
     "shell.execute_reply": "2022-04-10T18:01:44.433652Z",
     "shell.execute_reply.started": "2022-04-10T18:01:44.372525Z"
    }
   },
   "outputs": [
    {
     "data": {
      "text/html": [
       "<div>\n",
       "<style scoped>\n",
       "    .dataframe tbody tr th:only-of-type {\n",
       "        vertical-align: middle;\n",
       "    }\n",
       "\n",
       "    .dataframe tbody tr th {\n",
       "        vertical-align: top;\n",
       "    }\n",
       "\n",
       "    .dataframe thead th {\n",
       "        text-align: right;\n",
       "    }\n",
       "</style>\n",
       "<table border=\"1\" class=\"dataframe\">\n",
       "  <thead>\n",
       "    <tr style=\"text-align: right;\">\n",
       "      <th></th>\n",
       "      <th>label</th>\n",
       "      <th>pixel0</th>\n",
       "      <th>pixel1</th>\n",
       "      <th>pixel2</th>\n",
       "      <th>pixel3</th>\n",
       "      <th>pixel4</th>\n",
       "      <th>pixel5</th>\n",
       "      <th>pixel6</th>\n",
       "      <th>pixel7</th>\n",
       "      <th>pixel8</th>\n",
       "      <th>...</th>\n",
       "      <th>pixel774</th>\n",
       "      <th>pixel775</th>\n",
       "      <th>pixel776</th>\n",
       "      <th>pixel777</th>\n",
       "      <th>pixel778</th>\n",
       "      <th>pixel779</th>\n",
       "      <th>pixel780</th>\n",
       "      <th>pixel781</th>\n",
       "      <th>pixel782</th>\n",
       "      <th>pixel783</th>\n",
       "    </tr>\n",
       "  </thead>\n",
       "  <tbody>\n",
       "    <tr>\n",
       "      <th>0</th>\n",
       "      <td>1</td>\n",
       "      <td>0</td>\n",
       "      <td>0</td>\n",
       "      <td>0</td>\n",
       "      <td>0</td>\n",
       "      <td>0</td>\n",
       "      <td>0</td>\n",
       "      <td>0</td>\n",
       "      <td>0</td>\n",
       "      <td>0</td>\n",
       "      <td>...</td>\n",
       "      <td>0</td>\n",
       "      <td>0</td>\n",
       "      <td>0</td>\n",
       "      <td>0</td>\n",
       "      <td>0</td>\n",
       "      <td>0</td>\n",
       "      <td>0</td>\n",
       "      <td>0</td>\n",
       "      <td>0</td>\n",
       "      <td>0</td>\n",
       "    </tr>\n",
       "    <tr>\n",
       "      <th>1</th>\n",
       "      <td>0</td>\n",
       "      <td>0</td>\n",
       "      <td>0</td>\n",
       "      <td>0</td>\n",
       "      <td>0</td>\n",
       "      <td>0</td>\n",
       "      <td>0</td>\n",
       "      <td>0</td>\n",
       "      <td>0</td>\n",
       "      <td>0</td>\n",
       "      <td>...</td>\n",
       "      <td>0</td>\n",
       "      <td>0</td>\n",
       "      <td>0</td>\n",
       "      <td>0</td>\n",
       "      <td>0</td>\n",
       "      <td>0</td>\n",
       "      <td>0</td>\n",
       "      <td>0</td>\n",
       "      <td>0</td>\n",
       "      <td>0</td>\n",
       "    </tr>\n",
       "    <tr>\n",
       "      <th>2</th>\n",
       "      <td>1</td>\n",
       "      <td>0</td>\n",
       "      <td>0</td>\n",
       "      <td>0</td>\n",
       "      <td>0</td>\n",
       "      <td>0</td>\n",
       "      <td>0</td>\n",
       "      <td>0</td>\n",
       "      <td>0</td>\n",
       "      <td>0</td>\n",
       "      <td>...</td>\n",
       "      <td>0</td>\n",
       "      <td>0</td>\n",
       "      <td>0</td>\n",
       "      <td>0</td>\n",
       "      <td>0</td>\n",
       "      <td>0</td>\n",
       "      <td>0</td>\n",
       "      <td>0</td>\n",
       "      <td>0</td>\n",
       "      <td>0</td>\n",
       "    </tr>\n",
       "    <tr>\n",
       "      <th>3</th>\n",
       "      <td>4</td>\n",
       "      <td>0</td>\n",
       "      <td>0</td>\n",
       "      <td>0</td>\n",
       "      <td>0</td>\n",
       "      <td>0</td>\n",
       "      <td>0</td>\n",
       "      <td>0</td>\n",
       "      <td>0</td>\n",
       "      <td>0</td>\n",
       "      <td>...</td>\n",
       "      <td>0</td>\n",
       "      <td>0</td>\n",
       "      <td>0</td>\n",
       "      <td>0</td>\n",
       "      <td>0</td>\n",
       "      <td>0</td>\n",
       "      <td>0</td>\n",
       "      <td>0</td>\n",
       "      <td>0</td>\n",
       "      <td>0</td>\n",
       "    </tr>\n",
       "    <tr>\n",
       "      <th>4</th>\n",
       "      <td>0</td>\n",
       "      <td>0</td>\n",
       "      <td>0</td>\n",
       "      <td>0</td>\n",
       "      <td>0</td>\n",
       "      <td>0</td>\n",
       "      <td>0</td>\n",
       "      <td>0</td>\n",
       "      <td>0</td>\n",
       "      <td>0</td>\n",
       "      <td>...</td>\n",
       "      <td>0</td>\n",
       "      <td>0</td>\n",
       "      <td>0</td>\n",
       "      <td>0</td>\n",
       "      <td>0</td>\n",
       "      <td>0</td>\n",
       "      <td>0</td>\n",
       "      <td>0</td>\n",
       "      <td>0</td>\n",
       "      <td>0</td>\n",
       "    </tr>\n",
       "  </tbody>\n",
       "</table>\n",
       "<p>5 rows × 785 columns</p>\n",
       "</div>"
      ],
      "text/plain": [
       "   label  pixel0  pixel1  pixel2  pixel3  pixel4  pixel5  pixel6  pixel7  \\\n",
       "0      1       0       0       0       0       0       0       0       0   \n",
       "1      0       0       0       0       0       0       0       0       0   \n",
       "2      1       0       0       0       0       0       0       0       0   \n",
       "3      4       0       0       0       0       0       0       0       0   \n",
       "4      0       0       0       0       0       0       0       0       0   \n",
       "\n",
       "   pixel8  ...  pixel774  pixel775  pixel776  pixel777  pixel778  pixel779  \\\n",
       "0       0  ...         0         0         0         0         0         0   \n",
       "1       0  ...         0         0         0         0         0         0   \n",
       "2       0  ...         0         0         0         0         0         0   \n",
       "3       0  ...         0         0         0         0         0         0   \n",
       "4       0  ...         0         0         0         0         0         0   \n",
       "\n",
       "   pixel780  pixel781  pixel782  pixel783  \n",
       "0         0         0         0         0  \n",
       "1         0         0         0         0  \n",
       "2         0         0         0         0  \n",
       "3         0         0         0         0  \n",
       "4         0         0         0         0  \n",
       "\n",
       "[5 rows x 785 columns]"
      ]
     },
     "metadata": {},
     "output_type": "display_data"
    },
    {
     "name": "stdout",
     "output_type": "stream",
     "text": [
      "<class 'pandas.core.frame.DataFrame'>\n",
      "RangeIndex: 42000 entries, 0 to 41999\n",
      "Columns: 785 entries, label to pixel783\n",
      "dtypes: int64(785)\n",
      "memory usage: 251.5 MB\n"
     ]
    },
    {
     "data": {
      "text/plain": [
       "None"
      ]
     },
     "metadata": {},
     "output_type": "display_data"
    }
   ],
   "source": [
    "# Get the format of the data\n",
    "display(train_df.head())\n",
    "display(train_df.info())"
   ]
  },
  {
   "cell_type": "markdown",
   "metadata": {},
   "source": [
    "Notice that each row corresponds to a different example. The first column corresponds to the label (digit) and the rest of the columns are the flattened pixels of the image."
   ]
  },
  {
   "cell_type": "code",
   "execution_count": 4,
   "metadata": {
    "execution": {
     "iopub.execute_input": "2022-04-10T18:01:44.437095Z",
     "iopub.status.busy": "2022-04-10T18:01:44.436828Z",
     "iopub.status.idle": "2022-04-10T18:01:44.442347Z",
     "shell.execute_reply": "2022-04-10T18:01:44.441331Z",
     "shell.execute_reply.started": "2022-04-10T18:01:44.437063Z"
    }
   },
   "outputs": [
    {
     "name": "stdout",
     "output_type": "stream",
     "text": [
      "The shape of each image is (28,28)\n"
     ]
    }
   ],
   "source": [
    "# Get the shape of each square image\n",
    "length = int(np.sqrt(train_df.shape[1]-1))\n",
    "print('The shape of each image is (' + str(length) + ',' + str(length) + ')')"
   ]
  },
  {
   "cell_type": "code",
   "execution_count": 5,
   "metadata": {
    "execution": {
     "iopub.execute_input": "2022-04-10T18:01:44.445006Z",
     "iopub.status.busy": "2022-04-10T18:01:44.44431Z",
     "iopub.status.idle": "2022-04-10T18:01:44.900172Z",
     "shell.execute_reply": "2022-04-10T18:01:44.898873Z",
     "shell.execute_reply.started": "2022-04-10T18:01:44.444921Z"
    }
   },
   "outputs": [
    {
     "data": {
      "image/png": "[encoded data removed]",
      "text/plain": [
       "<Figure size 720x720 with 9 Axes>"
      ]
     },
     "metadata": {
      "needs_background": "light"
     },
     "output_type": "display_data"
    }
   ],
   "source": [
    "#Display first examples to have a first view of the data to be processed.\n",
    "columns = 3\n",
    "rows = 3\n",
    "#-----------------------------------------------------------------------\n",
    "fig, axes = plt.subplots(nrows=columns, ncols=rows, figsize=(10,10))\n",
    "fig.suptitle('FIRST '+str(columns*rows) +' EXAMPLES', fontsize = 30)\n",
    "for i,j in zip(range(columns*rows),axes.ravel()):\n",
    "    img = (train_df.iloc[i].to_numpy()[1:]).reshape(28,28)\n",
    "    j.imshow(img, cmap='gray')\n",
    "    j.axis('off')\n",
    "    j.set_title(\"LABEL:\"+str(train_df.iloc[i].to_numpy()[0]), fontsize = 20) \n",
    "plt.show()\n"
   ]
  },
  {
   "cell_type": "code",
   "execution_count": 6,
   "metadata": {
    "execution": {
     "iopub.execute_input": "2022-04-10T18:01:44.901699Z",
     "iopub.status.busy": "2022-04-10T18:01:44.9014Z",
     "iopub.status.idle": "2022-04-10T18:01:45.135847Z",
     "shell.execute_reply": "2022-04-10T18:01:45.134796Z",
     "shell.execute_reply.started": "2022-04-10T18:01:44.901669Z"
    }
   },
   "outputs": [
    {
     "name": "stderr",
     "output_type": "stream",
     "text": [
      "C:\\Users\\57322\\AppData\\Local\\Programs\\Python\\Python310\\lib\\site-packages\\seaborn\\_decorators.py:36: FutureWarning: Pass the following variable as a keyword arg: x. From version 0.12, the only valid positional argument will be `data`, and passing other arguments without an explicit keyword will result in an error or misinterpretation.\n",
      "  warnings.warn(\n"
     ]
    },
    {
     "data": {
      "text/plain": [
       "<AxesSubplot:xlabel='label', ylabel='count'>"
      ]
     },
     "execution_count": 6,
     "metadata": {},
     "output_type": "execute_result"
    },
    {
     "data": {
      "image/png": "[encoded data removed]",
      "text/plain": [
       "<Figure size 432x288 with 1 Axes>"
      ]
     },
     "metadata": {
      "needs_background": "light"
     },
     "output_type": "display_data"
    }
   ],
   "source": [
    "# Inspect the balance in the counting of the labels.\n",
    "sns.countplot(train_df['label'])"
   ]
  },
  {
   "cell_type": "markdown",
   "metadata": {},
   "source": [
    "The dataset is balanced. We have a similar number of examples for each class."
   ]
  },
  {
   "cell_type": "code",
   "execution_count": 7,
   "metadata": {
    "execution": {
     "iopub.execute_input": "2022-04-10T18:01:45.137744Z",
     "iopub.status.busy": "2022-04-10T18:01:45.137382Z",
     "iopub.status.idle": "2022-04-10T18:01:45.247367Z",
     "shell.execute_reply": "2022-04-10T18:01:45.246123Z",
     "shell.execute_reply.started": "2022-04-10T18:01:45.137697Z"
    }
   },
   "outputs": [
    {
     "data": {
      "text/html": [
       "<div>\n",
       "<style scoped>\n",
       "    .dataframe tbody tr th:only-of-type {\n",
       "        vertical-align: middle;\n",
       "    }\n",
       "\n",
       "    .dataframe tbody tr th {\n",
       "        vertical-align: top;\n",
       "    }\n",
       "\n",
       "    .dataframe thead th {\n",
       "        text-align: right;\n",
       "    }\n",
       "</style>\n",
       "<table border=\"1\" class=\"dataframe\">\n",
       "  <thead>\n",
       "    <tr style=\"text-align: right;\">\n",
       "      <th></th>\n",
       "      <th>pixel0</th>\n",
       "      <th>pixel1</th>\n",
       "      <th>pixel2</th>\n",
       "      <th>pixel3</th>\n",
       "      <th>pixel4</th>\n",
       "      <th>pixel5</th>\n",
       "      <th>pixel6</th>\n",
       "      <th>pixel7</th>\n",
       "      <th>pixel8</th>\n",
       "      <th>pixel9</th>\n",
       "      <th>...</th>\n",
       "      <th>pixel774</th>\n",
       "      <th>pixel775</th>\n",
       "      <th>pixel776</th>\n",
       "      <th>pixel777</th>\n",
       "      <th>pixel778</th>\n",
       "      <th>pixel779</th>\n",
       "      <th>pixel780</th>\n",
       "      <th>pixel781</th>\n",
       "      <th>pixel782</th>\n",
       "      <th>pixel783</th>\n",
       "    </tr>\n",
       "  </thead>\n",
       "  <tbody>\n",
       "    <tr>\n",
       "      <th>0</th>\n",
       "      <td>0</td>\n",
       "      <td>0</td>\n",
       "      <td>0</td>\n",
       "      <td>0</td>\n",
       "      <td>0</td>\n",
       "      <td>0</td>\n",
       "      <td>0</td>\n",
       "      <td>0</td>\n",
       "      <td>0</td>\n",
       "      <td>0</td>\n",
       "      <td>...</td>\n",
       "      <td>0</td>\n",
       "      <td>0</td>\n",
       "      <td>0</td>\n",
       "      <td>0</td>\n",
       "      <td>0</td>\n",
       "      <td>0</td>\n",
       "      <td>0</td>\n",
       "      <td>0</td>\n",
       "      <td>0</td>\n",
       "      <td>0</td>\n",
       "    </tr>\n",
       "    <tr>\n",
       "      <th>1</th>\n",
       "      <td>0</td>\n",
       "      <td>0</td>\n",
       "      <td>0</td>\n",
       "      <td>0</td>\n",
       "      <td>0</td>\n",
       "      <td>0</td>\n",
       "      <td>0</td>\n",
       "      <td>0</td>\n",
       "      <td>0</td>\n",
       "      <td>0</td>\n",
       "      <td>...</td>\n",
       "      <td>0</td>\n",
       "      <td>0</td>\n",
       "      <td>0</td>\n",
       "      <td>0</td>\n",
       "      <td>0</td>\n",
       "      <td>0</td>\n",
       "      <td>0</td>\n",
       "      <td>0</td>\n",
       "      <td>0</td>\n",
       "      <td>0</td>\n",
       "    </tr>\n",
       "    <tr>\n",
       "      <th>2</th>\n",
       "      <td>0</td>\n",
       "      <td>0</td>\n",
       "      <td>0</td>\n",
       "      <td>0</td>\n",
       "      <td>0</td>\n",
       "      <td>0</td>\n",
       "      <td>0</td>\n",
       "      <td>0</td>\n",
       "      <td>0</td>\n",
       "      <td>0</td>\n",
       "      <td>...</td>\n",
       "      <td>0</td>\n",
       "      <td>0</td>\n",
       "      <td>0</td>\n",
       "      <td>0</td>\n",
       "      <td>0</td>\n",
       "      <td>0</td>\n",
       "      <td>0</td>\n",
       "      <td>0</td>\n",
       "      <td>0</td>\n",
       "      <td>0</td>\n",
       "    </tr>\n",
       "    <tr>\n",
       "      <th>3</th>\n",
       "      <td>0</td>\n",
       "      <td>0</td>\n",
       "      <td>0</td>\n",
       "      <td>0</td>\n",
       "      <td>0</td>\n",
       "      <td>0</td>\n",
       "      <td>0</td>\n",
       "      <td>0</td>\n",
       "      <td>0</td>\n",
       "      <td>0</td>\n",
       "      <td>...</td>\n",
       "      <td>0</td>\n",
       "      <td>0</td>\n",
       "      <td>0</td>\n",
       "      <td>0</td>\n",
       "      <td>0</td>\n",
       "      <td>0</td>\n",
       "      <td>0</td>\n",
       "      <td>0</td>\n",
       "      <td>0</td>\n",
       "      <td>0</td>\n",
       "    </tr>\n",
       "    <tr>\n",
       "      <th>4</th>\n",
       "      <td>0</td>\n",
       "      <td>0</td>\n",
       "      <td>0</td>\n",
       "      <td>0</td>\n",
       "      <td>0</td>\n",
       "      <td>0</td>\n",
       "      <td>0</td>\n",
       "      <td>0</td>\n",
       "      <td>0</td>\n",
       "      <td>0</td>\n",
       "      <td>...</td>\n",
       "      <td>0</td>\n",
       "      <td>0</td>\n",
       "      <td>0</td>\n",
       "      <td>0</td>\n",
       "      <td>0</td>\n",
       "      <td>0</td>\n",
       "      <td>0</td>\n",
       "      <td>0</td>\n",
       "      <td>0</td>\n",
       "      <td>0</td>\n",
       "    </tr>\n",
       "  </tbody>\n",
       "</table>\n",
       "<p>5 rows × 784 columns</p>\n",
       "</div>"
      ],
      "text/plain": [
       "   pixel0  pixel1  pixel2  pixel3  pixel4  pixel5  pixel6  pixel7  pixel8  \\\n",
       "0       0       0       0       0       0       0       0       0       0   \n",
       "1       0       0       0       0       0       0       0       0       0   \n",
       "2       0       0       0       0       0       0       0       0       0   \n",
       "3       0       0       0       0       0       0       0       0       0   \n",
       "4       0       0       0       0       0       0       0       0       0   \n",
       "\n",
       "   pixel9  ...  pixel774  pixel775  pixel776  pixel777  pixel778  pixel779  \\\n",
       "0       0  ...         0         0         0         0         0         0   \n",
       "1       0  ...         0         0         0         0         0         0   \n",
       "2       0  ...         0         0         0         0         0         0   \n",
       "3       0  ...         0         0         0         0         0         0   \n",
       "4       0  ...         0         0         0         0         0         0   \n",
       "\n",
       "   pixel780  pixel781  pixel782  pixel783  \n",
       "0         0         0         0         0  \n",
       "1         0         0         0         0  \n",
       "2         0         0         0         0  \n",
       "3         0         0         0         0  \n",
       "4         0         0         0         0  \n",
       "\n",
       "[5 rows x 784 columns]"
      ]
     },
     "metadata": {},
     "output_type": "display_data"
    },
    {
     "data": {
      "text/plain": [
       "0    1\n",
       "1    0\n",
       "2    1\n",
       "3    4\n",
       "4    0\n",
       "Name: label, dtype: int64"
      ]
     },
     "metadata": {},
     "output_type": "display_data"
    }
   ],
   "source": [
    "# Get the label and the features (pixels) from the training dataset.\n",
    "X = train_df.drop(['label'], axis = 1)\n",
    "y = train_df['label']\n",
    "\n",
    "display(X.head())\n",
    "display(y.head())"
   ]
  },
  {
   "cell_type": "code",
   "execution_count": 8,
   "metadata": {
    "execution": {
     "iopub.execute_input": "2022-04-10T18:01:45.249704Z",
     "iopub.status.busy": "2022-04-10T18:01:45.248875Z",
     "iopub.status.idle": "2022-04-10T18:01:45.260082Z",
     "shell.execute_reply": "2022-04-10T18:01:45.259011Z",
     "shell.execute_reply.started": "2022-04-10T18:01:45.249653Z"
    }
   },
   "outputs": [
    {
     "name": "stdout",
     "output_type": "stream",
     "text": [
      "\u001b[1mDATA TYPES OF X\u001b[0m\n",
      "pixel0      int64\n",
      "pixel1      int64\n",
      "pixel2      int64\n",
      "pixel3      int64\n",
      "pixel4      int64\n",
      "            ...  \n",
      "pixel779    int64\n",
      "pixel780    int64\n",
      "pixel781    int64\n",
      "pixel782    int64\n",
      "pixel783    int64\n",
      "Length: 784, dtype: object\n",
      "\u001b[1mDATA TYPES OF Y\u001b[0m\n",
      "int64\n"
     ]
    }
   ],
   "source": [
    "# Get data types of X and y\n",
    "print('\\033[1m' + 'DATA TYPES OF X' + '\\033[0m')\n",
    "print(X.dtypes)\n",
    "print('\\033[1m' + 'DATA TYPES OF Y' + '\\033[0m')\n",
    "print(y.dtypes)\n"
   ]
  },
  {
   "cell_type": "markdown",
   "metadata": {},
   "source": [
    "Notice that the data types of the dataframes is int, and it has to be float."
   ]
  },
  {
   "cell_type": "code",
   "execution_count": 9,
   "metadata": {
    "execution": {
     "iopub.execute_input": "2022-04-10T18:01:45.261635Z",
     "iopub.status.busy": "2022-04-10T18:01:45.261233Z",
     "iopub.status.idle": "2022-04-10T18:01:45.409546Z",
     "shell.execute_reply": "2022-04-10T18:01:45.408567Z",
     "shell.execute_reply.started": "2022-04-10T18:01:45.261595Z"
    }
   },
   "outputs": [
    {
     "name": "stdout",
     "output_type": "stream",
     "text": [
      "\u001b[1mWE HAVE A TOTAL OF 42000 EXAMPLES\u001b[0m\n",
      "\u001b[1m80.0% OF OUR EXAMPLES WILL BE FOR TRAINING AND 20.0% FOR VALIDATION\u001b[0m\n",
      "\u001b[1mWE HAVE A TOTAL OF 33600 TRAINING EXAMPLES\u001b[0m\n",
      "\u001b[1mWE HAVE A TOTAL OF 8400 VALIDATION EXAMPLES\u001b[0m\n"
     ]
    }
   ],
   "source": [
    "# Split the data into training and validation sets.\n",
    "validation_fraction = 0.2\n",
    "#-----------------------------------------------------------------------\n",
    "total_size = X.shape[0]\n",
    "validation_size = int(np.ceil(total_size*validation_fraction))\n",
    "train_size = total_size - validation_size\n",
    "print('\\033[1m' + 'WE HAVE A TOTAL OF ' +str(total_size)+ ' EXAMPLES' + '\\033[0m')\n",
    "\n",
    "print('\\033[1m' + str((1-validation_fraction)*100)+ '% OF OUR EXAMPLES WILL BE FOR TRAINING AND ' + str(validation_fraction*100) +'% FOR VALIDATION' + '\\033[0m')\n",
    "print('\\033[1m' + 'WE HAVE A TOTAL OF ' +str(train_size)+ ' TRAINING EXAMPLES' + '\\033[0m')\n",
    "print('\\033[1m' + 'WE HAVE A TOTAL OF ' +str(validation_size)+ ' VALIDATION EXAMPLES' + '\\033[0m')\n",
    "\n",
    "# Split the data into two sets\n",
    "\n",
    "X_train_original = X.loc[:train_size-1].astype('float32')\n",
    "y_train_categorical = y.loc[:train_size-1].to_numpy()\n",
    "\n",
    "\n",
    "X_val_original = X.loc[train_size:].astype('float32')\n",
    "y_val_categorical = y.loc[train_size:].to_numpy()\n"
   ]
  },
  {
   "cell_type": "code",
   "execution_count": 10,
   "metadata": {
    "execution": {
     "iopub.execute_input": "2022-04-10T18:01:45.412076Z",
     "iopub.status.busy": "2022-04-10T18:01:45.411483Z",
     "iopub.status.idle": "2022-04-10T18:01:45.419726Z",
     "shell.execute_reply": "2022-04-10T18:01:45.41869Z",
     "shell.execute_reply.started": "2022-04-10T18:01:45.412025Z"
    }
   },
   "outputs": [],
   "source": [
    "# Binning the pixels of the images.\n",
    "def preprocess_data(X):\n",
    "    X_out = X/255\n",
    "    for i in range(X_out.shape[0]):\n",
    "        for j in range(X_out.shape[1]):\n",
    "            for k in range(X_out.shape[2]):\n",
    "                if X_out[i,j,k] > 0.5:\n",
    "                    X_out[i,j,k] = 1\n",
    "                if X_out[i,j,k] > 0 and X_out[i,j,k] < 0.5:\n",
    "                    X_out[i,j,k] = 0.5\n",
    "    return X_out"
   ]
  },
  {
   "cell_type": "code",
   "execution_count": 11,
   "metadata": {
    "execution": {
     "iopub.execute_input": "2022-04-10T18:01:45.421462Z",
     "iopub.status.busy": "2022-04-10T18:01:45.421166Z",
     "iopub.status.idle": "2022-04-10T18:03:31.040619Z",
     "shell.execute_reply": "2022-04-10T18:03:31.039734Z",
     "shell.execute_reply.started": "2022-04-10T18:01:45.421429Z"
    }
   },
   "outputs": [],
   "source": [
    "X_train = [] #This list will contain the reshaped data\n",
    "X_val = [] #This list will contain the reshaped data\n",
    "\n",
    "# One hot encode the labels.\n",
    "y_train = np.zeros((y_train_categorical.size, 10))\n",
    "y_train[np.arange(train_size),y_train_categorical] = 1\n",
    "\n",
    "y_val = np.zeros((validation_size, 10))\n",
    "y_val[np.arange(validation_size),y_val_categorical] = 1\n",
    "\n",
    "# Get each example and reshape it, then save it in the list \n",
    "for i in range(train_size):\n",
    "    X_train.append(X_train_original.iloc[i].to_numpy().reshape(28,28,1))\n",
    "    \n",
    "for i in range(validation_size):\n",
    "    X_val.append(X_val_original.iloc[i].to_numpy().reshape(28,28, 1))\n",
    "\n",
    "# Convert the list to numpy array\n",
    "X_train = np.array(X_train)  \n",
    "X_val = np.array(X_val)\n",
    "\n",
    "X_train = preprocess_data(X_train)\n",
    "X_val = preprocess_data(X_val)"
   ]
  },
  {
   "cell_type": "code",
   "execution_count": 12,
   "metadata": {
    "execution": {
     "iopub.execute_input": "2022-04-10T18:03:31.042256Z",
     "iopub.status.busy": "2022-04-10T18:03:31.041868Z",
     "iopub.status.idle": "2022-04-10T18:03:31.701819Z",
     "shell.execute_reply": "2022-04-10T18:03:31.700713Z",
     "shell.execute_reply.started": "2022-04-10T18:03:31.042225Z"
    }
   },
   "outputs": [
    {
     "data": {
      "image/png": "[encoded data removed]",
      "text/plain": [
       "<Figure size 720x720 with 9 Axes>"
      ]
     },
     "metadata": {
      "needs_background": "light"
     },
     "output_type": "display_data"
    }
   ],
   "source": [
    "#Display first examples to have a first view of the processed data.\n",
    "columns = 3\n",
    "rows = 3\n",
    "#-----------------------------------------------------------------------\n",
    "fig, axes = plt.subplots(nrows=columns, ncols=rows, figsize=(10,10))\n",
    "fig.suptitle('FIRST '+str(columns*rows) +' EXAMPLES', fontsize = 30)\n",
    "for i,j in zip(range(columns*rows),axes.ravel()):\n",
    "    img = X_train[i]\n",
    "    j.imshow(img, cmap='gray')\n",
    "    j.axis('off')\n",
    "    j.set_title(\"LABEL:\"+str(train_df.iloc[i].to_numpy()[0]), fontsize = 20) \n",
    "plt.show()\n"
   ]
  },
  {
   "cell_type": "markdown",
   "metadata": {},
   "source": [
    "## REDUCING BIAS\n",
    "Considering that digit recognition is a fairly simple task for humans and that we are dealing with unstructured data, we can say with certainty that the Human Level Performance (HLP) is near to Bayesian Optimal Error (the lowest possible error rate). \n",
    "\n",
    "The first step was to overfit the training set. It was a very empirical and iterative process. In order to fix high bias we can increase the complexity of the model or train for longer times.  \n",
    "\n",
    "The process was to add convolutional layers to the network until it had a safisfactory performance. The first two convolutional layers have 32 filters. The third and fourth layers, 64 filters. The last one, 128 filters.\n",
    "\n",
    "After the second, fourth and fifth convolutional layer the model has a MaxPooling layer.\n",
    "\n",
    "The first dense layer has 256 neurons, the second one, 128 and the last one, 64 neurons.\n",
    "\n",
    "Adam optimizer showed a better performance than sgd."
   ]
  },
  {
   "cell_type": "markdown",
   "metadata": {},
   "source": [
    "## REDUCING VARIANCE\n",
    "\n",
    "Then, when the model has a good performance on the training data, it is necessary to improve the performance on the validation set. The model overfits the training set, so we have to fix the high variance.\n",
    " \n",
    "In order to fix the overfitting we can increase the training data (add new synthetic examples) term or add dropout layers to the model. \n",
    "\n",
    "The strategy was to gradually add dropout layers. Considered to add regularization to the dense layers.\n",
    "\n",
    "Implemented data augmentantion to improve the accuracy on the validation set (this creates synthetic images by appliyng transformations to the originals).\n"
   ]
  },
  {
   "cell_type": "markdown",
   "metadata": {},
   "source": [
    "## CREATING THE MODEL"
   ]
  },
  {
   "cell_type": "code",
   "execution_count": 13,
   "metadata": {
    "execution": {
     "iopub.execute_input": "2022-04-10T18:03:31.706329Z",
     "iopub.status.busy": "2022-04-10T18:03:31.705919Z",
     "iopub.status.idle": "2022-04-10T18:03:31.768916Z",
     "shell.execute_reply": "2022-04-10T18:03:31.767974Z",
     "shell.execute_reply.started": "2022-04-10T18:03:31.706277Z"
    }
   },
   "outputs": [],
   "source": [
    "# Create the model\n",
    "model = tf.keras.models.Sequential()\n",
    "model.add(tf.keras.layers.Conv2D(32, (3,3), activation='relu', input_shape = (28,28,1)))\n",
    "model.add(tf.keras.layers.Conv2D(32, (3,3), activation='relu'))\n",
    "model.add(tf.keras.layers.Dropout(0.2))\n",
    "model.add(tf.keras.layers.MaxPooling2D((2,2)))\n",
    "model.add(tf.keras.layers.BatchNormalization())\n",
    "model.add(tf.keras.layers.Conv2D(64, (3,3), activation='relu'))\n",
    "model.add(tf.keras.layers.Conv2D(64, (3,3), activation='relu'))\n",
    "model.add(tf.keras.layers.Dropout(0.2))\n",
    "model.add(tf.keras.layers.MaxPooling2D((2,2)))\n",
    "model.add(tf.keras.layers.BatchNormalization())\n",
    "model.add(tf.keras.layers.Conv2D(128, (3,3), activation='relu'))\n",
    "model.add(tf.keras.layers.Dropout(0.2))\n",
    "model.add(tf.keras.layers.MaxPooling2D((2,2)))\n",
    "model.add(tf.keras.layers.BatchNormalization())\n",
    "model.add(tf.keras.layers.Flatten())\n",
    "model.add(tf.keras.layers.Dense(256, activation = 'relu'))\n",
    "model.add(tf.keras.layers.Dropout(0.2))\n",
    "model.add(tf.keras.layers.Dense(128, activation = 'relu'))\n",
    "model.add(tf.keras.layers.Dropout(0.2))\n",
    "model.add(tf.keras.layers.Dense(64, activation = 'relu'))\n",
    "model.add(tf.keras.layers.Dense(10, activation = 'softmax'))\n",
    "\n",
    "model.compile(optimizer='adam', loss='categorical_crossentropy', metrics = ['accuracy'])"
   ]
  },
  {
   "cell_type": "code",
   "execution_count": 14,
   "metadata": {
    "execution": {
     "iopub.execute_input": "2022-04-10T18:03:31.770871Z",
     "iopub.status.busy": "2022-04-10T18:03:31.76995Z",
     "iopub.status.idle": "2022-04-10T18:03:31.819165Z",
     "shell.execute_reply": "2022-04-10T18:03:31.818266Z",
     "shell.execute_reply.started": "2022-04-10T18:03:31.77082Z"
    }
   },
   "outputs": [],
   "source": [
    "# Implement data augmentation\n",
    "datagen = ImageDataGenerator(\n",
    "    featurewise_center = False,\n",
    "    samplewise_center=False,\n",
    "    zoom_range=0.1,\n",
    "    rotation_range=20,\n",
    "    width_shift_range=0.1,\n",
    "    height_shift_range=0.1,\n",
    "    horizontal_flip=False)\n",
    "\n",
    "datagen.fit(X_train)"
   ]
  },
  {
   "cell_type": "code",
   "execution_count": 15,
   "metadata": {
    "execution": {
     "iopub.execute_input": "2022-04-10T18:03:31.820522Z",
     "iopub.status.busy": "2022-04-10T18:03:31.820288Z",
     "iopub.status.idle": "2022-04-10T19:28:13.94685Z",
     "shell.execute_reply": "2022-04-10T19:28:13.945051Z",
     "shell.execute_reply.started": "2022-04-10T18:03:31.820495Z"
    }
   },
   "outputs": [
    {
     "name": "stderr",
     "output_type": "stream",
     "text": [
      "C:\\Users\\57322\\AppData\\Local\\Temp\\ipykernel_14328\\1326307447.py:5: UserWarning: `Model.fit_generator` is deprecated and will be removed in a future version. Please use `Model.fit`, which supports generators.\n",
      "  history = model.fit_generator(datagen.flow(X_train, y_train, batch_size=32), validation_data=(X_val, y_val), epochs = 100, callbacks=[reduce_lr] ) # Reduce epochs from 100 to 50\n"
     ]
    },
    {
     "name": "stdout",
     "output_type": "stream",
     "text": [
      "Epoch 1/100\n",
      "1050/1050 [==============================] - 85s 80ms/step - loss: 0.3702 - accuracy: 0.8834 - val_loss: 0.0890 - val_accuracy: 0.9773 - lr: 0.0010\n",
      "Epoch 2/100\n",
      "1050/1050 [==============================] - 83s 79ms/step - loss: 0.1494 - accuracy: 0.9573 - val_loss: 0.1972 - val_accuracy: 0.9455 - lr: 0.0010\n",
      "Epoch 3/100\n",
      "1050/1050 [==============================] - 89s 85ms/step - loss: 0.1241 - accuracy: 0.9640 - val_loss: 0.0519 - val_accuracy: 0.9858 - lr: 0.0010\n",
      "Epoch 4/100\n",
      "1050/1050 [==============================] - 85s 81ms/step - loss: 0.1095 - accuracy: 0.9692 - val_loss: 0.0697 - val_accuracy: 0.9821 - lr: 0.0010\n",
      "Epoch 5/100\n",
      "1050/1050 [==============================] - 88s 84ms/step - loss: 0.0938 - accuracy: 0.9734 - val_loss: 0.0534 - val_accuracy: 0.9857 - lr: 0.0010\n",
      "Epoch 6/100\n",
      "1050/1050 [==============================] - 91s 87ms/step - loss: 0.0917 - accuracy: 0.9735 - val_loss: 0.0437 - val_accuracy: 0.9889 - lr: 0.0010\n",
      "Epoch 7/100\n",
      "1050/1050 [==============================] - 93s 88ms/step - loss: 0.0828 - accuracy: 0.9767 - val_loss: 0.0576 - val_accuracy: 0.9861 - lr: 0.0010\n",
      "Epoch 8/100\n",
      "1050/1050 [==============================] - 94s 89ms/step - loss: 0.0823 - accuracy: 0.9775 - val_loss: 0.0407 - val_accuracy: 0.9895 - lr: 0.0010\n",
      "Epoch 9/100\n",
      "1050/1050 [==============================] - 93s 88ms/step - loss: 0.0755 - accuracy: 0.9784 - val_loss: 0.0461 - val_accuracy: 0.9889 - lr: 0.0010\n",
      "Epoch 10/100\n",
      "1050/1050 [==============================] - 93s 89ms/step - loss: 0.0695 - accuracy: 0.9809 - val_loss: 0.0329 - val_accuracy: 0.9920 - lr: 0.0010\n",
      "Epoch 11/100\n",
      "1050/1050 [==============================] - 92s 88ms/step - loss: 0.0699 - accuracy: 0.9797 - val_loss: 0.0443 - val_accuracy: 0.9881 - lr: 0.0010\n",
      "Epoch 12/100\n",
      "1050/1050 [==============================] - 92s 88ms/step - loss: 0.0644 - accuracy: 0.9821 - val_loss: 0.0370 - val_accuracy: 0.9908 - lr: 0.0010\n",
      "Epoch 13/100\n",
      "1050/1050 [==============================] - 92s 88ms/step - loss: 0.0641 - accuracy: 0.9820 - val_loss: 0.0369 - val_accuracy: 0.9915 - lr: 0.0010\n",
      "Epoch 14/100\n",
      "1050/1050 [==============================] - 93s 88ms/step - loss: 0.0601 - accuracy: 0.9832 - val_loss: 0.0328 - val_accuracy: 0.9912 - lr: 0.0010\n",
      "Epoch 15/100\n",
      "1050/1050 [==============================] - 97s 92ms/step - loss: 0.0632 - accuracy: 0.9822 - val_loss: 0.0429 - val_accuracy: 0.9893 - lr: 0.0010\n",
      "Epoch 16/100\n",
      "1050/1050 [==============================] - 96s 91ms/step - loss: 0.0435 - accuracy: 0.9878 - val_loss: 0.0261 - val_accuracy: 0.9943 - lr: 2.0000e-04\n",
      "Epoch 17/100\n",
      "1050/1050 [==============================] - 98s 93ms/step - loss: 0.0379 - accuracy: 0.9892 - val_loss: 0.0242 - val_accuracy: 0.9950 - lr: 2.0000e-04\n",
      "Epoch 18/100\n",
      "1050/1050 [==============================] - 97s 93ms/step - loss: 0.0358 - accuracy: 0.9896 - val_loss: 0.0245 - val_accuracy: 0.9946 - lr: 2.0000e-04\n",
      "Epoch 19/100\n",
      "1050/1050 [==============================] - 99s 94ms/step - loss: 0.0325 - accuracy: 0.9906 - val_loss: 0.0229 - val_accuracy: 0.9954 - lr: 2.0000e-04\n",
      "Epoch 20/100\n",
      "1050/1050 [==============================] - 98s 94ms/step - loss: 0.0318 - accuracy: 0.9904 - val_loss: 0.0230 - val_accuracy: 0.9954 - lr: 2.0000e-04\n",
      "Epoch 21/100\n",
      "1050/1050 [==============================] - 99s 94ms/step - loss: 0.0318 - accuracy: 0.9910 - val_loss: 0.0232 - val_accuracy: 0.9958 - lr: 2.0000e-04\n",
      "Epoch 22/100\n",
      "1050/1050 [==============================] - 98s 94ms/step - loss: 0.0291 - accuracy: 0.9914 - val_loss: 0.0226 - val_accuracy: 0.9949 - lr: 2.0000e-04\n",
      "Epoch 23/100\n",
      "1050/1050 [==============================] - 99s 94ms/step - loss: 0.0305 - accuracy: 0.9911 - val_loss: 0.0227 - val_accuracy: 0.9954 - lr: 2.0000e-04\n",
      "Epoch 24/100\n",
      "1050/1050 [==============================] - 92s 87ms/step - loss: 0.0279 - accuracy: 0.9920 - val_loss: 0.0223 - val_accuracy: 0.9946 - lr: 2.0000e-04\n",
      "Epoch 25/100\n",
      "1050/1050 [==============================] - 92s 88ms/step - loss: 0.0295 - accuracy: 0.9911 - val_loss: 0.0229 - val_accuracy: 0.9957 - lr: 2.0000e-04\n",
      "Epoch 26/100\n",
      "1050/1050 [==============================] - 93s 89ms/step - loss: 0.0268 - accuracy: 0.9918 - val_loss: 0.0234 - val_accuracy: 0.9955 - lr: 2.0000e-04\n",
      "Epoch 27/100\n",
      "1050/1050 [==============================] - 93s 88ms/step - loss: 0.0262 - accuracy: 0.9921 - val_loss: 0.0227 - val_accuracy: 0.9946 - lr: 2.0000e-04\n",
      "Epoch 28/100\n",
      "1050/1050 [==============================] - 93s 88ms/step - loss: 0.0285 - accuracy: 0.9912 - val_loss: 0.0220 - val_accuracy: 0.9955 - lr: 2.0000e-04\n",
      "Epoch 29/100\n",
      "1050/1050 [==============================] - 94s 89ms/step - loss: 0.0273 - accuracy: 0.9914 - val_loss: 0.0234 - val_accuracy: 0.9957 - lr: 2.0000e-04\n",
      "Epoch 30/100\n",
      "1050/1050 [==============================] - 102s 97ms/step - loss: 0.0279 - accuracy: 0.9915 - val_loss: 0.0221 - val_accuracy: 0.9960 - lr: 2.0000e-04\n",
      "Epoch 31/100\n",
      "1050/1050 [==============================] - 102s 97ms/step - loss: 0.0253 - accuracy: 0.9926 - val_loss: 0.0212 - val_accuracy: 0.9956 - lr: 2.0000e-04\n",
      "Epoch 32/100\n",
      "1050/1050 [==============================] - 93s 89ms/step - loss: 0.0251 - accuracy: 0.9922 - val_loss: 0.0223 - val_accuracy: 0.9955 - lr: 2.0000e-04\n",
      "Epoch 33/100\n",
      "1050/1050 [==============================] - 104s 99ms/step - loss: 0.0267 - accuracy: 0.9918 - val_loss: 0.0227 - val_accuracy: 0.9949 - lr: 2.0000e-04\n",
      "Epoch 34/100\n",
      "1050/1050 [==============================] - 113s 108ms/step - loss: 0.0252 - accuracy: 0.9916 - val_loss: 0.0236 - val_accuracy: 0.9954 - lr: 2.0000e-04\n",
      "Epoch 35/100\n",
      "1050/1050 [==============================] - 110s 105ms/step - loss: 0.0246 - accuracy: 0.9925 - val_loss: 0.0206 - val_accuracy: 0.9962 - lr: 2.0000e-04\n",
      "Epoch 36/100\n",
      "1050/1050 [==============================] - 102s 98ms/step - loss: 0.0236 - accuracy: 0.9932 - val_loss: 0.0218 - val_accuracy: 0.9951 - lr: 2.0000e-04\n",
      "Epoch 37/100\n",
      "1050/1050 [==============================] - 120s 114ms/step - loss: 0.0250 - accuracy: 0.9926 - val_loss: 0.0218 - val_accuracy: 0.9952 - lr: 2.0000e-04\n",
      "Epoch 38/100\n",
      "1050/1050 [==============================] - 116s 111ms/step - loss: 0.0229 - accuracy: 0.9930 - val_loss: 0.0216 - val_accuracy: 0.9955 - lr: 2.0000e-04\n",
      "Epoch 39/100\n",
      "1050/1050 [==============================] - 130s 124ms/step - loss: 0.0241 - accuracy: 0.9924 - val_loss: 0.0213 - val_accuracy: 0.9956 - lr: 2.0000e-04\n",
      "Epoch 40/100\n",
      "1050/1050 [==============================] - 124s 118ms/step - loss: 0.0246 - accuracy: 0.9931 - val_loss: 0.0233 - val_accuracy: 0.9950 - lr: 2.0000e-04\n",
      "Epoch 41/100\n",
      "1050/1050 [==============================] - 135s 129ms/step - loss: 0.0222 - accuracy: 0.9932 - val_loss: 0.0214 - val_accuracy: 0.9950 - lr: 4.0000e-05\n",
      "Epoch 42/100\n",
      "1050/1050 [==============================] - 126s 120ms/step - loss: 0.0202 - accuracy: 0.9935 - val_loss: 0.0205 - val_accuracy: 0.9957 - lr: 4.0000e-05\n",
      "Epoch 43/100\n",
      "1050/1050 [==============================] - 120s 114ms/step - loss: 0.0187 - accuracy: 0.9938 - val_loss: 0.0201 - val_accuracy: 0.9954 - lr: 4.0000e-05\n",
      "Epoch 44/100\n",
      "1050/1050 [==============================] - 116s 111ms/step - loss: 0.0195 - accuracy: 0.9938 - val_loss: 0.0205 - val_accuracy: 0.9954 - lr: 4.0000e-05\n",
      "Epoch 45/100\n",
      "1050/1050 [==============================] - 134s 127ms/step - loss: 0.0187 - accuracy: 0.9940 - val_loss: 0.0208 - val_accuracy: 0.9955 - lr: 4.0000e-05\n",
      "Epoch 46/100\n",
      "1050/1050 [==============================] - 129s 123ms/step - loss: 0.0199 - accuracy: 0.9940 - val_loss: 0.0215 - val_accuracy: 0.9954 - lr: 4.0000e-05\n",
      "Epoch 47/100\n",
      "1050/1050 [==============================] - 129s 123ms/step - loss: 0.0188 - accuracy: 0.9945 - val_loss: 0.0209 - val_accuracy: 0.9955 - lr: 4.0000e-05\n",
      "Epoch 48/100\n",
      "1050/1050 [==============================] - 135s 129ms/step - loss: 0.0184 - accuracy: 0.9938 - val_loss: 0.0208 - val_accuracy: 0.9958 - lr: 4.0000e-05\n",
      "Epoch 49/100\n",
      "1050/1050 [==============================] - 132s 126ms/step - loss: 0.0176 - accuracy: 0.9946 - val_loss: 0.0207 - val_accuracy: 0.9954 - lr: 1.0000e-05\n",
      "Epoch 50/100\n",
      "1050/1050 [==============================] - 132s 125ms/step - loss: 0.0179 - accuracy: 0.9947 - val_loss: 0.0206 - val_accuracy: 0.9952 - lr: 1.0000e-05\n"
     ]
    },
    {
     "name": "stdout",
     "output_type": "stream",
     "text": [
      "Epoch 51/100\n",
      "1050/1050 [==============================] - 137s 131ms/step - loss: 0.0179 - accuracy: 0.9939 - val_loss: 0.0208 - val_accuracy: 0.9956 - lr: 1.0000e-05\n",
      "Epoch 52/100\n",
      "1050/1050 [==============================] - 123s 117ms/step - loss: 0.0193 - accuracy: 0.9941 - val_loss: 0.0206 - val_accuracy: 0.9955 - lr: 1.0000e-05\n",
      "Epoch 53/100\n",
      "1050/1050 [==============================] - 123s 117ms/step - loss: 0.0170 - accuracy: 0.9948 - val_loss: 0.0206 - val_accuracy: 0.9954 - lr: 1.0000e-05\n",
      "Epoch 54/100\n",
      "1050/1050 [==============================] - 105s 100ms/step - loss: 0.0187 - accuracy: 0.9946 - val_loss: 0.0206 - val_accuracy: 0.9957 - lr: 1.0000e-05\n",
      "Epoch 55/100\n",
      "1050/1050 [==============================] - 123s 117ms/step - loss: 0.0169 - accuracy: 0.9947 - val_loss: 0.0207 - val_accuracy: 0.9956 - lr: 1.0000e-05\n",
      "Epoch 56/100\n",
      "1050/1050 [==============================] - 125s 119ms/step - loss: 0.0179 - accuracy: 0.9945 - val_loss: 0.0206 - val_accuracy: 0.9955 - lr: 1.0000e-05\n",
      "Epoch 57/100\n",
      "1050/1050 [==============================] - 140s 133ms/step - loss: 0.0203 - accuracy: 0.9936 - val_loss: 0.0206 - val_accuracy: 0.9954 - lr: 1.0000e-05\n",
      "Epoch 58/100\n",
      "1050/1050 [==============================] - 114s 108ms/step - loss: 0.0186 - accuracy: 0.9937 - val_loss: 0.0205 - val_accuracy: 0.9955 - lr: 1.0000e-05\n",
      "Epoch 59/100\n",
      "1050/1050 [==============================] - 99s 94ms/step - loss: 0.0167 - accuracy: 0.9950 - val_loss: 0.0203 - val_accuracy: 0.9956 - lr: 1.0000e-05\n",
      "Epoch 60/100\n",
      "1050/1050 [==============================] - 102s 97ms/step - loss: 0.0173 - accuracy: 0.9944 - val_loss: 0.0206 - val_accuracy: 0.9954 - lr: 1.0000e-05\n",
      "Epoch 61/100\n",
      "1050/1050 [==============================] - 101s 96ms/step - loss: 0.0181 - accuracy: 0.9949 - val_loss: 0.0205 - val_accuracy: 0.9954 - lr: 1.0000e-05\n",
      "Epoch 62/100\n",
      "1050/1050 [==============================] - 99s 94ms/step - loss: 0.0192 - accuracy: 0.9942 - val_loss: 0.0204 - val_accuracy: 0.9955 - lr: 1.0000e-05\n",
      "Epoch 63/100\n",
      "1050/1050 [==============================] - 101s 96ms/step - loss: 0.0191 - accuracy: 0.9944 - val_loss: 0.0207 - val_accuracy: 0.9954 - lr: 1.0000e-05\n",
      "Epoch 64/100\n",
      "1050/1050 [==============================] - 101s 96ms/step - loss: 0.0162 - accuracy: 0.9947 - val_loss: 0.0209 - val_accuracy: 0.9954 - lr: 1.0000e-05\n",
      "Epoch 65/100\n",
      "1050/1050 [==============================] - 100s 96ms/step - loss: 0.0157 - accuracy: 0.9950 - val_loss: 0.0206 - val_accuracy: 0.9954 - lr: 1.0000e-05\n",
      "Epoch 66/100\n",
      "1050/1050 [==============================] - 99s 94ms/step - loss: 0.0173 - accuracy: 0.9946 - val_loss: 0.0209 - val_accuracy: 0.9954 - lr: 1.0000e-05\n",
      "Epoch 67/100\n",
      "1050/1050 [==============================] - 101s 96ms/step - loss: 0.0160 - accuracy: 0.9945 - val_loss: 0.0206 - val_accuracy: 0.9957 - lr: 1.0000e-05\n",
      "Epoch 68/100\n",
      "1050/1050 [==============================] - 101s 96ms/step - loss: 0.0177 - accuracy: 0.9944 - val_loss: 0.0206 - val_accuracy: 0.9955 - lr: 1.0000e-05\n",
      "Epoch 69/100\n",
      "1050/1050 [==============================] - 100s 95ms/step - loss: 0.0182 - accuracy: 0.9944 - val_loss: 0.0206 - val_accuracy: 0.9957 - lr: 1.0000e-05\n",
      "Epoch 70/100\n",
      "1050/1050 [==============================] - 100s 96ms/step - loss: 0.0155 - accuracy: 0.9953 - val_loss: 0.0203 - val_accuracy: 0.9957 - lr: 1.0000e-05\n",
      "Epoch 71/100\n",
      "1050/1050 [==============================] - 101s 96ms/step - loss: 0.0172 - accuracy: 0.9945 - val_loss: 0.0201 - val_accuracy: 0.9955 - lr: 1.0000e-05\n",
      "Epoch 72/100\n",
      "1050/1050 [==============================] - 101s 96ms/step - loss: 0.0172 - accuracy: 0.9945 - val_loss: 0.0205 - val_accuracy: 0.9951 - lr: 1.0000e-05\n",
      "Epoch 73/100\n",
      "1050/1050 [==============================] - 102s 97ms/step - loss: 0.0171 - accuracy: 0.9943 - val_loss: 0.0204 - val_accuracy: 0.9956 - lr: 1.0000e-05\n",
      "Epoch 74/100\n",
      "1050/1050 [==============================] - 101s 96ms/step - loss: 0.0175 - accuracy: 0.9948 - val_loss: 0.0203 - val_accuracy: 0.9956 - lr: 1.0000e-05\n",
      "Epoch 75/100\n",
      "1050/1050 [==============================] - 101s 96ms/step - loss: 0.0175 - accuracy: 0.9947 - val_loss: 0.0206 - val_accuracy: 0.9956 - lr: 1.0000e-05\n",
      "Epoch 76/100\n",
      "1050/1050 [==============================] - 101s 96ms/step - loss: 0.0164 - accuracy: 0.9944 - val_loss: 0.0202 - val_accuracy: 0.9958 - lr: 1.0000e-05\n",
      "Epoch 77/100\n",
      "1050/1050 [==============================] - 101s 96ms/step - loss: 0.0170 - accuracy: 0.9949 - val_loss: 0.0203 - val_accuracy: 0.9958 - lr: 1.0000e-05\n",
      "Epoch 78/100\n",
      "1050/1050 [==============================] - 101s 96ms/step - loss: 0.0159 - accuracy: 0.9949 - val_loss: 0.0203 - val_accuracy: 0.9955 - lr: 1.0000e-05\n",
      "Epoch 79/100\n",
      "1050/1050 [==============================] - 101s 96ms/step - loss: 0.0191 - accuracy: 0.9943 - val_loss: 0.0203 - val_accuracy: 0.9952 - lr: 1.0000e-05\n",
      "Epoch 80/100\n",
      "1050/1050 [==============================] - 101s 96ms/step - loss: 0.0182 - accuracy: 0.9948 - val_loss: 0.0204 - val_accuracy: 0.9958 - lr: 1.0000e-05\n",
      "Epoch 81/100\n",
      "1050/1050 [==============================] - 102s 97ms/step - loss: 0.0163 - accuracy: 0.9945 - val_loss: 0.0204 - val_accuracy: 0.9954 - lr: 1.0000e-05\n",
      "Epoch 82/100\n",
      "1050/1050 [==============================] - 102s 97ms/step - loss: 0.0176 - accuracy: 0.9945 - val_loss: 0.0204 - val_accuracy: 0.9952 - lr: 1.0000e-05\n",
      "Epoch 83/100\n",
      "1050/1050 [==============================] - 100s 96ms/step - loss: 0.0152 - accuracy: 0.9953 - val_loss: 0.0204 - val_accuracy: 0.9952 - lr: 1.0000e-05\n",
      "Epoch 84/100\n",
      "1050/1050 [==============================] - 102s 97ms/step - loss: 0.0157 - accuracy: 0.9954 - val_loss: 0.0202 - val_accuracy: 0.9955 - lr: 1.0000e-05\n",
      "Epoch 85/100\n",
      "1050/1050 [==============================] - 102s 97ms/step - loss: 0.0171 - accuracy: 0.9946 - val_loss: 0.0203 - val_accuracy: 0.9954 - lr: 1.0000e-05\n",
      "Epoch 86/100\n",
      "1050/1050 [==============================] - 102s 97ms/step - loss: 0.0170 - accuracy: 0.9949 - val_loss: 0.0202 - val_accuracy: 0.9951 - lr: 1.0000e-05\n",
      "Epoch 87/100\n",
      "1050/1050 [==============================] - 102s 97ms/step - loss: 0.0164 - accuracy: 0.9949 - val_loss: 0.0205 - val_accuracy: 0.9952 - lr: 1.0000e-05\n",
      "Epoch 88/100\n",
      "1050/1050 [==============================] - 102s 97ms/step - loss: 0.0179 - accuracy: 0.9945 - val_loss: 0.0205 - val_accuracy: 0.9955 - lr: 1.0000e-05\n",
      "Epoch 89/100\n",
      "1050/1050 [==============================] - 102s 97ms/step - loss: 0.0159 - accuracy: 0.9950 - val_loss: 0.0207 - val_accuracy: 0.9955 - lr: 1.0000e-05\n",
      "Epoch 90/100\n",
      "1050/1050 [==============================] - 102s 97ms/step - loss: 0.0153 - accuracy: 0.9952 - val_loss: 0.0204 - val_accuracy: 0.9954 - lr: 1.0000e-05\n",
      "Epoch 91/100\n",
      "1050/1050 [==============================] - 102s 97ms/step - loss: 0.0172 - accuracy: 0.9944 - val_loss: 0.0202 - val_accuracy: 0.9956 - lr: 1.0000e-05\n",
      "Epoch 92/100\n",
      "1050/1050 [==============================] - 102s 97ms/step - loss: 0.0177 - accuracy: 0.9945 - val_loss: 0.0202 - val_accuracy: 0.9955 - lr: 1.0000e-05\n",
      "Epoch 93/100\n",
      "1050/1050 [==============================] - 102s 97ms/step - loss: 0.0157 - accuracy: 0.9948 - val_loss: 0.0201 - val_accuracy: 0.9956 - lr: 1.0000e-05\n",
      "Epoch 94/100\n",
      "1050/1050 [==============================] - 104s 99ms/step - loss: 0.0169 - accuracy: 0.9944 - val_loss: 0.0198 - val_accuracy: 0.9956 - lr: 1.0000e-05\n",
      "Epoch 95/100\n",
      "1050/1050 [==============================] - 104s 99ms/step - loss: 0.0151 - accuracy: 0.9949 - val_loss: 0.0202 - val_accuracy: 0.9955 - lr: 1.0000e-05\n",
      "Epoch 96/100\n",
      "1050/1050 [==============================] - 103s 98ms/step - loss: 0.0160 - accuracy: 0.9949 - val_loss: 0.0204 - val_accuracy: 0.9955 - lr: 1.0000e-05\n",
      "Epoch 97/100\n",
      "1050/1050 [==============================] - 103s 98ms/step - loss: 0.0139 - accuracy: 0.9954 - val_loss: 0.0203 - val_accuracy: 0.9956 - lr: 1.0000e-05\n",
      "Epoch 98/100\n",
      "1050/1050 [==============================] - 104s 99ms/step - loss: 0.0163 - accuracy: 0.9951 - val_loss: 0.0201 - val_accuracy: 0.9956 - lr: 1.0000e-05\n",
      "Epoch 99/100\n",
      "1050/1050 [==============================] - 103s 98ms/step - loss: 0.0167 - accuracy: 0.9950 - val_loss: 0.0202 - val_accuracy: 0.9955 - lr: 1.0000e-05\n",
      "Epoch 100/100\n"
     ]
    },
    {
     "name": "stdout",
     "output_type": "stream",
     "text": [
      "1050/1050 [==============================] - 99s 94ms/step - loss: 0.0174 - accuracy: 0.9949 - val_loss: 0.0200 - val_accuracy: 0.9955 - lr: 1.0000e-05\n"
     ]
    }
   ],
   "source": [
    "# Fit the model and save the history\n",
    "reduce_lr = ReduceLROnPlateau(monitor='val_loss', factor=0.2, patience=5, min_lr=0.00001) # Add learning rate decay to favor convergence.\n",
    "\n",
    "# Train over 100 epochs to reduce bias\n",
    "history = model.fit_generator(datagen.flow(X_train, y_train, batch_size=32), validation_data=(X_val, y_val), epochs = 100, callbacks=[reduce_lr] ) # Reduce epochs from 100 to 50"
   ]
  },
  {
   "cell_type": "code",
   "execution_count": 16,
   "metadata": {
    "execution": {
     "iopub.execute_input": "2022-04-10T19:28:13.954257Z",
     "iopub.status.busy": "2022-04-10T19:28:13.952514Z",
     "iopub.status.idle": "2022-04-10T19:28:13.978256Z",
     "shell.execute_reply": "2022-04-10T19:28:13.977153Z",
     "shell.execute_reply.started": "2022-04-10T19:28:13.954207Z"
    }
   },
   "outputs": [
    {
     "name": "stdout",
     "output_type": "stream",
     "text": [
      "Model: \"sequential\"\n",
      "_________________________________________________________________\n",
      " Layer (type)                Output Shape              Param #   \n",
      "=================================================================\n",
      " conv2d (Conv2D)             (None, 26, 26, 32)        320       \n",
      "                                                                 \n",
      " conv2d_1 (Conv2D)           (None, 24, 24, 32)        9248      \n",
      "                                                                 \n",
      " dropout (Dropout)           (None, 24, 24, 32)        0         \n",
      "                                                                 \n",
      " max_pooling2d (MaxPooling2D  (None, 12, 12, 32)       0         \n",
      " )                                                               \n",
      "                                                                 \n",
      " batch_normalization (BatchN  (None, 12, 12, 32)       128       \n",
      " ormalization)                                                   \n",
      "                                                                 \n",
      " conv2d_2 (Conv2D)           (None, 10, 10, 64)        18496     \n",
      "                                                                 \n",
      " conv2d_3 (Conv2D)           (None, 8, 8, 64)          36928     \n",
      "                                                                 \n",
      " dropout_1 (Dropout)         (None, 8, 8, 64)          0         \n",
      "                                                                 \n",
      " max_pooling2d_1 (MaxPooling  (None, 4, 4, 64)         0         \n",
      " 2D)                                                             \n",
      "                                                                 \n",
      " batch_normalization_1 (Batc  (None, 4, 4, 64)         256       \n",
      " hNormalization)                                                 \n",
      "                                                                 \n",
      " conv2d_4 (Conv2D)           (None, 2, 2, 128)         73856     \n",
      "                                                                 \n",
      " dropout_2 (Dropout)         (None, 2, 2, 128)         0         \n",
      "                                                                 \n",
      " max_pooling2d_2 (MaxPooling  (None, 1, 1, 128)        0         \n",
      " 2D)                                                             \n",
      "                                                                 \n",
      " batch_normalization_2 (Batc  (None, 1, 1, 128)        512       \n",
      " hNormalization)                                                 \n",
      "                                                                 \n",
      " flatten (Flatten)           (None, 128)               0         \n",
      "                                                                 \n",
      " dense (Dense)               (None, 256)               33024     \n",
      "                                                                 \n",
      " dropout_3 (Dropout)         (None, 256)               0         \n",
      "                                                                 \n",
      " dense_1 (Dense)             (None, 128)               32896     \n",
      "                                                                 \n",
      " dropout_4 (Dropout)         (None, 128)               0         \n",
      "                                                                 \n",
      " dense_2 (Dense)             (None, 64)                8256      \n",
      "                                                                 \n",
      " dense_3 (Dense)             (None, 10)                650       \n",
      "                                                                 \n",
      "=================================================================\n",
      "Total params: 214,570\n",
      "Trainable params: 214,122\n",
      "Non-trainable params: 448\n",
      "_________________________________________________________________\n"
     ]
    }
   ],
   "source": [
    "# Model Summary\n",
    "model.summary()"
   ]
  },
  {
   "cell_type": "markdown",
   "metadata": {},
   "source": [
    "Tracked accuracy and loss over time."
   ]
  },
  {
   "cell_type": "code",
   "execution_count": 17,
   "metadata": {
    "execution": {
     "iopub.execute_input": "2022-04-10T19:28:13.980365Z",
     "iopub.status.busy": "2022-04-10T19:28:13.979727Z",
     "iopub.status.idle": "2022-04-10T19:28:14.241597Z",
     "shell.execute_reply": "2022-04-10T19:28:14.240605Z",
     "shell.execute_reply.started": "2022-04-10T19:28:13.979959Z"
    }
   },
   "outputs": [
    {
     "data": {
      "image/png": "[encoded data removed]",
      "text/plain": [
       "<Figure size 432x288 with 1 Axes>"
      ]
     },
     "metadata": {
      "needs_background": "light"
     },
     "output_type": "display_data"
    }
   ],
   "source": [
    "# Summarize history for accuracy\n",
    "plt.plot(history.history['accuracy'])\n",
    "plt.plot(history.history['val_accuracy'])\n",
    "plt.title('Model accuracy')\n",
    "plt.ylabel('Accuracy')\n",
    "plt.xlabel('Epoch')\n",
    "plt.legend(['Train', 'Validation'], loc='upper left')\n",
    "plt.show()"
   ]
  },
  {
   "cell_type": "code",
   "execution_count": 18,
   "metadata": {
    "execution": {
     "iopub.execute_input": "2022-04-10T19:28:14.243074Z",
     "iopub.status.busy": "2022-04-10T19:28:14.242812Z",
     "iopub.status.idle": "2022-04-10T19:28:14.451831Z",
     "shell.execute_reply": "2022-04-10T19:28:14.451006Z",
     "shell.execute_reply.started": "2022-04-10T19:28:14.243043Z"
    }
   },
   "outputs": [
    {
     "data": {
      "image/png": "[encoded data removed]",
      "text/plain": [
       "<Figure size 432x288 with 1 Axes>"
      ]
     },
     "metadata": {
      "needs_background": "light"
     },
     "output_type": "display_data"
    }
   ],
   "source": [
    "# Summarize history for loss\n",
    "plt.plot(history.history['loss'])\n",
    "plt.plot(history.history['val_loss'])\n",
    "plt.title('Model loss')\n",
    "plt.ylabel('Loss')\n",
    "plt.xlabel('Epoch')\n",
    "plt.legend(['Train', 'Validation'], loc='upper left')\n",
    "plt.show()"
   ]
  },
  {
   "cell_type": "markdown",
   "metadata": {},
   "source": [
    "Look at the graphs. In the validation set, a better performance is obtained than in the training set, which at first glance can be strange. However, since dropout was included in the solution,the neural network does not have 100% of its computational power available during training, but in the validation stage it does."
   ]
  },
  {
   "cell_type": "code",
   "execution_count": 19,
   "metadata": {
    "execution": {
     "iopub.execute_input": "2022-04-10T19:28:14.45348Z",
     "iopub.status.busy": "2022-04-10T19:28:14.453132Z",
     "iopub.status.idle": "2022-04-10T19:28:24.213591Z",
     "shell.execute_reply": "2022-04-10T19:28:24.211763Z",
     "shell.execute_reply.started": "2022-04-10T19:28:14.453435Z"
    }
   },
   "outputs": [
    {
     "name": "stdout",
     "output_type": "stream",
     "text": [
      "In total we have 42 misclassified examples in the training set.\n",
      "The training accuracy is: 0.99875\n"
     ]
    }
   ],
   "source": [
    "# Evaluate the accuracy in the train set.\n",
    "y_pred = model.predict(X_train)\n",
    "y_pred = np.argmax(y_pred,axis=1)\n",
    "y_train = np.argmax(y_train,axis=1)\n",
    "\n",
    "misclassified = []\n",
    "for i in range(len(y_pred)):\n",
    "    if y_pred[i] != y_train[i]:\n",
    "        misclassified.append(i)\n",
    "        \n",
    "print('In total we have ' + str(len(misclassified)) + ' misclassified examples in the training set.')\n",
    "print('The training accuracy is: ' + str((len(y_pred)-len(misclassified))/len(y_pred)))"
   ]
  },
  {
   "cell_type": "code",
   "execution_count": 20,
   "metadata": {
    "execution": {
     "iopub.execute_input": "2022-04-10T19:28:24.21535Z",
     "iopub.status.busy": "2022-04-10T19:28:24.2151Z",
     "iopub.status.idle": "2022-04-10T19:28:26.870484Z",
     "shell.execute_reply": "2022-04-10T19:28:26.869388Z",
     "shell.execute_reply.started": "2022-04-10T19:28:24.215319Z"
    }
   },
   "outputs": [
    {
     "name": "stdout",
     "output_type": "stream",
     "text": [
      "In total we have 38 misclassified examples in the validation set.\n",
      "The validation accuracy is: 0.9954761904761905\n"
     ]
    }
   ],
   "source": [
    "# Evaluate the accuracy in the validation set.\n",
    "y_pred = model.predict(X_val)\n",
    "y_pred = np.argmax(y_pred,axis=1)\n",
    "y_val = np.argmax(y_val,axis=1)\n",
    "\n",
    "misclassified = []\n",
    "for i in range(len(y_pred)):\n",
    "    if y_pred[i] != y_val[i]:\n",
    "        misclassified.append(i)\n",
    "        \n",
    "print('In total we have ' + str(len(misclassified)) + ' misclassified examples in the validation set.')\n",
    "print('The validation accuracy is: ' + str((len(y_pred)-len(misclassified))/len(y_pred)))"
   ]
  },
  {
   "cell_type": "code",
   "execution_count": 21,
   "metadata": {
    "execution": {
     "iopub.execute_input": "2022-04-10T19:28:26.872349Z",
     "iopub.status.busy": "2022-04-10T19:28:26.872075Z",
     "iopub.status.idle": "2022-04-10T19:28:27.854384Z",
     "shell.execute_reply": "2022-04-10T19:28:27.853274Z",
     "shell.execute_reply.started": "2022-04-10T19:28:26.872319Z"
    }
   },
   "outputs": [
    {
     "data": {
      "image/png": "[encoded data removed]",
      "text/plain": [
       "<Figure size 540x540 with 1 Axes>"
      ]
     },
     "metadata": {
      "needs_background": "light"
     },
     "output_type": "display_data"
    }
   ],
   "source": [
    "# Confusion Matrix\n",
    "conf_mat = confusion_matrix(y_val, y_pred)\n",
    "\n",
    "fig, px = plt.subplots(figsize=(7.5, 7.5))\n",
    "px.matshow(conf_mat, cmap=plt.cm.Greens, alpha=0.5)\n",
    "for m in range(conf_mat.shape[0]):\n",
    "    for n in range(conf_mat.shape[1]):\n",
    "        px.text(x=m,y=n,s=conf_mat[m, n], va='center', ha='center', size='xx-large')\n",
    "\n",
    "plt.xlabel('Predicted Class', fontsize=16)\n",
    "plt.ylabel('True Class', fontsize=16)\n",
    "plt.title('Confusion Matrix', fontsize=15)\n",
    "plt.show()"
   ]
  },
  {
   "cell_type": "markdown",
   "metadata": {},
   "source": [
    "The training accuracy is very high, which suggests us that it is very close to the theoretical limit (low bias). The validation accuracy is very close to the training accuracy so, we are not overfitting the training set (low variance). This means that if the test set comes from the same distribution as the validation set, the model should have a low test error and should generalize satisfactorily."
   ]
  },
  {
   "cell_type": "markdown",
   "metadata": {},
   "source": [
    "## ERROR ANALYSIS"
   ]
  },
  {
   "cell_type": "code",
   "execution_count": 22,
   "metadata": {
    "execution": {
     "iopub.execute_input": "2022-04-10T19:28:27.856899Z",
     "iopub.status.busy": "2022-04-10T19:28:27.856538Z",
     "iopub.status.idle": "2022-04-10T19:28:30.910542Z",
     "shell.execute_reply": "2022-04-10T19:28:30.90953Z",
     "shell.execute_reply.started": "2022-04-10T19:28:27.856845Z"
    }
   },
   "outputs": [
    {
     "data": {
      "image/png": "[encoded data removed]",
      "text/plain": [
       "<Figure size 648x936 with 25 Axes>"
      ]
     },
     "metadata": {
      "needs_background": "light"
     },
     "output_type": "display_data"
    }
   ],
   "source": [
    "## Missclassified examples\n",
    "w = 10\n",
    "h = 10\n",
    "fig = plt.figure(figsize=(9, 13))\n",
    "columns = 5\n",
    "rows = 5\n",
    "ax = []\n",
    "\n",
    "for i in range(25):\n",
    "    img = (X_val[misclassified[i]])\n",
    "    ax.append( fig.add_subplot(rows, columns, i+1) )\n",
    "    ax[-1].set_title('cor = ' + str(y_val[misclassified[i]]) + str(', Pred ') + str(y_pred[misclassified[i]]))  # set title\n",
    "    plt.imshow(img, cmap=plt.get_cmap('gray'))\n",
    "    "
   ]
  },
  {
   "cell_type": "code",
   "execution_count": 23,
   "metadata": {
    "execution": {
     "iopub.execute_input": "2022-04-10T19:28:30.912307Z",
     "iopub.status.busy": "2022-04-10T19:28:30.912043Z",
     "iopub.status.idle": "2022-04-10T19:28:31.148458Z",
     "shell.execute_reply": "2022-04-10T19:28:31.147486Z",
     "shell.execute_reply.started": "2022-04-10T19:28:30.912276Z"
    }
   },
   "outputs": [
    {
     "name": "stderr",
     "output_type": "stream",
     "text": [
      "C:\\Users\\57322\\AppData\\Local\\Programs\\Python\\Python310\\lib\\site-packages\\seaborn\\_decorators.py:36: FutureWarning: Pass the following variable as a keyword arg: x. From version 0.12, the only valid positional argument will be `data`, and passing other arguments without an explicit keyword will result in an error or misinterpretation.\n",
      "  warnings.warn(\n"
     ]
    },
    {
     "data": {
      "text/plain": [
       "<AxesSubplot:xlabel='Label', ylabel='count'>"
      ]
     },
     "execution_count": 23,
     "metadata": {},
     "output_type": "execute_result"
    },
    {
     "data": {
      "image/png": "[encoded data removed]",
      "text/plain": [
       "<Figure size 432x288 with 1 Axes>"
      ]
     },
     "metadata": {
      "needs_background": "light"
     },
     "output_type": "display_data"
    }
   ],
   "source": [
    "MisClassPreds = []\n",
    "CorrectPreds = []\n",
    "for i in misclassified:\n",
    "    CorrectPreds.append(y_val[i])\n",
    "    MisClassPreds.append(y_pred[i])\n",
    "\n",
    "df = pd.DataFrame(list(zip(CorrectPreds, MisClassPreds)),\n",
    "               columns =['Label', 'Prediction'])\n",
    "\n",
    "sns.countplot(df['Label'])"
   ]
  },
  {
   "cell_type": "markdown",
   "metadata": {},
   "source": [
    "Notice that an important fraction of the misclassified examples are 9s and 7s. There is a clear correlation between these digits and the error. There is a lot of room for improvement if we focus on identifying nines and fours. We can do this by collecting more data from these digits."
   ]
  },
  {
   "cell_type": "code",
   "execution_count": 24,
   "metadata": {},
   "outputs": [],
   "source": [
    "model.save('mnist_recognizer.h5')"
   ]
  }
 ],
 "metadata": {
  "kernelspec": {
   "display_name": "Python 3 (ipykernel)",
   "language": "python",
   "name": "python3"
  },
  "language_info": {
   "codemirror_mode": {
    "name": "ipython",
    "version": 3
   },
   "file_extension": ".py",
   "mimetype": "text/x-python",
   "name": "python",
   "nbconvert_exporter": "python",
   "pygments_lexer": "ipython3",
   "version": "3.10.4"
  }
 },
 "nbformat": 4,
 "nbformat_minor": 4
}
